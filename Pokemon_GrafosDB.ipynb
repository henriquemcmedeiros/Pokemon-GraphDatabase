{
  "nbformat": 4,
  "nbformat_minor": 0,
  "metadata": {
    "colab": {
      "provenance": []
    },
    "kernelspec": {
      "name": "python3",
      "display_name": "Python 3"
    },
    "language_info": {
      "name": "python"
    }
  },
  "cells": [
    {
      "cell_type": "markdown",
      "source": [
        "#Instalando dependências"
      ],
      "metadata": {
        "id": "kX-jtFEVxMMj"
      }
    },
    {
      "cell_type": "code",
      "execution_count": 35,
      "metadata": {
        "colab": {
          "base_uri": "https://localhost:8080/"
        },
        "id": "xgqQBu6SpopM",
        "outputId": "d43a8ce9-26a6-4dd7-8798-dbe5e31c63a9"
      },
      "outputs": [
        {
          "output_type": "stream",
          "name": "stdout",
          "text": [
            "Requirement already satisfied: neo4j in /usr/local/lib/python3.10/dist-packages (5.25.0)\n",
            "Requirement already satisfied: pytz in /usr/local/lib/python3.10/dist-packages (from neo4j) (2024.2)\n"
          ]
        }
      ],
      "source": [
        "!pip install neo4j"
      ]
    },
    {
      "cell_type": "markdown",
      "source": [
        "#Inserindo o JSON base"
      ],
      "metadata": {
        "id": "oMQLjJlnxPua"
      }
    },
    {
      "cell_type": "code",
      "source": [
        "from google.colab import files\n",
        "uploaded = files.upload()"
      ],
      "metadata": {
        "colab": {
          "base_uri": "https://localhost:8080/",
          "height": 73
        },
        "id": "YRBVmn5lptfF",
        "outputId": "9536189e-dfec-4d69-b089-6e05462eda49"
      },
      "execution_count": 36,
      "outputs": [
        {
          "output_type": "display_data",
          "data": {
            "text/plain": [
              "<IPython.core.display.HTML object>"
            ],
            "text/html": [
              "\n",
              "     <input type=\"file\" id=\"files-c07c2d32-d1df-4a1a-8378-bc09551d37fb\" name=\"files[]\" multiple disabled\n",
              "        style=\"border:none\" />\n",
              "     <output id=\"result-c07c2d32-d1df-4a1a-8378-bc09551d37fb\">\n",
              "      Upload widget is only available when the cell has been executed in the\n",
              "      current browser session. Please rerun this cell to enable.\n",
              "      </output>\n",
              "      <script>// Copyright 2017 Google LLC\n",
              "//\n",
              "// Licensed under the Apache License, Version 2.0 (the \"License\");\n",
              "// you may not use this file except in compliance with the License.\n",
              "// You may obtain a copy of the License at\n",
              "//\n",
              "//      http://www.apache.org/licenses/LICENSE-2.0\n",
              "//\n",
              "// Unless required by applicable law or agreed to in writing, software\n",
              "// distributed under the License is distributed on an \"AS IS\" BASIS,\n",
              "// WITHOUT WARRANTIES OR CONDITIONS OF ANY KIND, either express or implied.\n",
              "// See the License for the specific language governing permissions and\n",
              "// limitations under the License.\n",
              "\n",
              "/**\n",
              " * @fileoverview Helpers for google.colab Python module.\n",
              " */\n",
              "(function(scope) {\n",
              "function span(text, styleAttributes = {}) {\n",
              "  const element = document.createElement('span');\n",
              "  element.textContent = text;\n",
              "  for (const key of Object.keys(styleAttributes)) {\n",
              "    element.style[key] = styleAttributes[key];\n",
              "  }\n",
              "  return element;\n",
              "}\n",
              "\n",
              "// Max number of bytes which will be uploaded at a time.\n",
              "const MAX_PAYLOAD_SIZE = 100 * 1024;\n",
              "\n",
              "function _uploadFiles(inputId, outputId) {\n",
              "  const steps = uploadFilesStep(inputId, outputId);\n",
              "  const outputElement = document.getElementById(outputId);\n",
              "  // Cache steps on the outputElement to make it available for the next call\n",
              "  // to uploadFilesContinue from Python.\n",
              "  outputElement.steps = steps;\n",
              "\n",
              "  return _uploadFilesContinue(outputId);\n",
              "}\n",
              "\n",
              "// This is roughly an async generator (not supported in the browser yet),\n",
              "// where there are multiple asynchronous steps and the Python side is going\n",
              "// to poll for completion of each step.\n",
              "// This uses a Promise to block the python side on completion of each step,\n",
              "// then passes the result of the previous step as the input to the next step.\n",
              "function _uploadFilesContinue(outputId) {\n",
              "  const outputElement = document.getElementById(outputId);\n",
              "  const steps = outputElement.steps;\n",
              "\n",
              "  const next = steps.next(outputElement.lastPromiseValue);\n",
              "  return Promise.resolve(next.value.promise).then((value) => {\n",
              "    // Cache the last promise value to make it available to the next\n",
              "    // step of the generator.\n",
              "    outputElement.lastPromiseValue = value;\n",
              "    return next.value.response;\n",
              "  });\n",
              "}\n",
              "\n",
              "/**\n",
              " * Generator function which is called between each async step of the upload\n",
              " * process.\n",
              " * @param {string} inputId Element ID of the input file picker element.\n",
              " * @param {string} outputId Element ID of the output display.\n",
              " * @return {!Iterable<!Object>} Iterable of next steps.\n",
              " */\n",
              "function* uploadFilesStep(inputId, outputId) {\n",
              "  const inputElement = document.getElementById(inputId);\n",
              "  inputElement.disabled = false;\n",
              "\n",
              "  const outputElement = document.getElementById(outputId);\n",
              "  outputElement.innerHTML = '';\n",
              "\n",
              "  const pickedPromise = new Promise((resolve) => {\n",
              "    inputElement.addEventListener('change', (e) => {\n",
              "      resolve(e.target.files);\n",
              "    });\n",
              "  });\n",
              "\n",
              "  const cancel = document.createElement('button');\n",
              "  inputElement.parentElement.appendChild(cancel);\n",
              "  cancel.textContent = 'Cancel upload';\n",
              "  const cancelPromise = new Promise((resolve) => {\n",
              "    cancel.onclick = () => {\n",
              "      resolve(null);\n",
              "    };\n",
              "  });\n",
              "\n",
              "  // Wait for the user to pick the files.\n",
              "  const files = yield {\n",
              "    promise: Promise.race([pickedPromise, cancelPromise]),\n",
              "    response: {\n",
              "      action: 'starting',\n",
              "    }\n",
              "  };\n",
              "\n",
              "  cancel.remove();\n",
              "\n",
              "  // Disable the input element since further picks are not allowed.\n",
              "  inputElement.disabled = true;\n",
              "\n",
              "  if (!files) {\n",
              "    return {\n",
              "      response: {\n",
              "        action: 'complete',\n",
              "      }\n",
              "    };\n",
              "  }\n",
              "\n",
              "  for (const file of files) {\n",
              "    const li = document.createElement('li');\n",
              "    li.append(span(file.name, {fontWeight: 'bold'}));\n",
              "    li.append(span(\n",
              "        `(${file.type || 'n/a'}) - ${file.size} bytes, ` +\n",
              "        `last modified: ${\n",
              "            file.lastModifiedDate ? file.lastModifiedDate.toLocaleDateString() :\n",
              "                                    'n/a'} - `));\n",
              "    const percent = span('0% done');\n",
              "    li.appendChild(percent);\n",
              "\n",
              "    outputElement.appendChild(li);\n",
              "\n",
              "    const fileDataPromise = new Promise((resolve) => {\n",
              "      const reader = new FileReader();\n",
              "      reader.onload = (e) => {\n",
              "        resolve(e.target.result);\n",
              "      };\n",
              "      reader.readAsArrayBuffer(file);\n",
              "    });\n",
              "    // Wait for the data to be ready.\n",
              "    let fileData = yield {\n",
              "      promise: fileDataPromise,\n",
              "      response: {\n",
              "        action: 'continue',\n",
              "      }\n",
              "    };\n",
              "\n",
              "    // Use a chunked sending to avoid message size limits. See b/62115660.\n",
              "    let position = 0;\n",
              "    do {\n",
              "      const length = Math.min(fileData.byteLength - position, MAX_PAYLOAD_SIZE);\n",
              "      const chunk = new Uint8Array(fileData, position, length);\n",
              "      position += length;\n",
              "\n",
              "      const base64 = btoa(String.fromCharCode.apply(null, chunk));\n",
              "      yield {\n",
              "        response: {\n",
              "          action: 'append',\n",
              "          file: file.name,\n",
              "          data: base64,\n",
              "        },\n",
              "      };\n",
              "\n",
              "      let percentDone = fileData.byteLength === 0 ?\n",
              "          100 :\n",
              "          Math.round((position / fileData.byteLength) * 100);\n",
              "      percent.textContent = `${percentDone}% done`;\n",
              "\n",
              "    } while (position < fileData.byteLength);\n",
              "  }\n",
              "\n",
              "  // All done.\n",
              "  yield {\n",
              "    response: {\n",
              "      action: 'complete',\n",
              "    }\n",
              "  };\n",
              "}\n",
              "\n",
              "scope.google = scope.google || {};\n",
              "scope.google.colab = scope.google.colab || {};\n",
              "scope.google.colab._files = {\n",
              "  _uploadFiles,\n",
              "  _uploadFilesContinue,\n",
              "};\n",
              "})(self);\n",
              "</script> "
            ]
          },
          "metadata": {}
        },
        {
          "output_type": "stream",
          "name": "stdout",
          "text": [
            "Saving pokedex.json to pokedex (3).json\n"
          ]
        }
      ]
    },
    {
      "cell_type": "markdown",
      "source": [
        "#Criando a conexão com o Neo4j"
      ],
      "metadata": {
        "id": "wqPB-BGtxikQ"
      }
    },
    {
      "cell_type": "code",
      "source": [
        "import json\n",
        "from neo4j import GraphDatabase\n",
        "\n",
        "# Conectando ao Neo4J online\n",
        "uri = \"neo4j+s://4edc86b4.databases.neo4j.io\"\n",
        "username = \"neo4j\"\n",
        "password = \"cH-m7R7VxnFEDK6WDDIl2TmpdMfOGkWu_NEITEV4_Xc\""
      ],
      "metadata": {
        "id": "IOj60OBtBsNj"
      },
      "execution_count": 37,
      "outputs": []
    },
    {
      "cell_type": "code",
      "source": [
        "# Inicializando a conexão com o Neo4J online\n",
        "driver = GraphDatabase.driver(uri, auth=(username, password))\n",
        "\n",
        "# Função para lidar com a leitura do arquivo JSON\n",
        "def carregar_pokemons(arquivo_json):\n",
        "    try:\n",
        "        with open(arquivo_json, encoding='utf-8') as f:\n",
        "            return json.load(f)\n",
        "    except FileNotFoundError:\n",
        "        print(f\"Arquivo {arquivo_json} não encontrado.\")\n",
        "    except json.JSONDecodeError:\n",
        "        print(\"Erro ao decodificar o arquivo JSON.\")\n",
        "    return []\n",
        "\n",
        "# Função para criar ou atualizar o nó do Pokémon\n",
        "def criar_no_pokemon(tx, pokemon):\n",
        "    habilidades = [hab['nome'] for hab in pokemon.get('habilidades', [])]\n",
        "\n",
        "    tx.run(\"\"\"\n",
        "    MERGE (p:Pokemon {numero: $numero})\n",
        "    SET p.nome = $nome, p.tipos = $tipos, p.peso = $peso, p.habilidades = $habilidades\n",
        "    \"\"\",\n",
        "    numero=pokemon['numero'],\n",
        "    nome=pokemon['nome'],\n",
        "    tipos=pokemon['tipos'],\n",
        "    peso=pokemon['peso'],\n",
        "    habilidades=habilidades)\n",
        "\n",
        "# Função para criar as arestas de evolução entre Pokémons\n",
        "def criar_arestas_evolucao(tx, pokemon):\n",
        "    evolucoes = pokemon.get('evolucoes', [])\n",
        "    for evolucao in evolucoes:\n",
        "        tx.run(\"\"\"\n",
        "        MATCH (p1:Pokemon {numero: $numero}), (p2:Pokemon {numero: $evolucao})\n",
        "        MERGE (p1)-[:EVOLUI_PARA]->(p2)\n",
        "        \"\"\", numero=pokemon['numero'], evolucao=evolucao['numero'])\n",
        "\n",
        "# Função para criar os nós de habilidades e conectá-las ao Pokémon\n",
        "def criar_habilidades(tx, pokemon):\n",
        "    habilidades = [hab['nome'] for hab in pokemon.get('habilidades', [])]\n",
        "\n",
        "    for habilidade in habilidades:\n",
        "        # Criar o nó da habilidade\n",
        "        tx.run(\"\"\"\n",
        "        MERGE (h:Habilidade {nome: $nome})\n",
        "        \"\"\", nome=habilidade)\n",
        "\n",
        "        # Conectar Pokémon à habilidade\n",
        "        tx.run(\"\"\"\n",
        "        MATCH (p:Pokemon {numero: $numero}), (h:Habilidade {nome: $nome})\n",
        "        MERGE (p)-[:TEM_HABILIDADE]->(h)\n",
        "        \"\"\", numero=pokemon['numero'], nome=habilidade)\n",
        "\n",
        "# Função para criar os nós de tipo e conectá-los ao Pokémon\n",
        "def criar_tipos(tx, pokemon):\n",
        "    tipos = pokemon.get('tipos', [])\n",
        "\n",
        "    for tipo in tipos:\n",
        "        # Criar o nó do tipo, se não existir\n",
        "        tx.run(\"\"\"\n",
        "        MERGE (t:Tipo {nome: $nome})\n",
        "        \"\"\", nome=tipo)\n",
        "\n",
        "        # Conectar Pokémon ao tipo\n",
        "        tx.run(\"\"\"\n",
        "        MATCH (p:Pokemon {numero: $numero}), (t:Tipo {nome: $nome})\n",
        "        MERGE (p)-[:TEM_TIPO]->(t)\n",
        "        \"\"\", numero=pokemon['numero'], nome=tipo)\n",
        "\n",
        "# Função principal para adicionar todos os detalhes do Pokémon ao Neo4J\n",
        "def adicionar_pokemon(tx, pokemon):\n",
        "    criar_no_pokemon(tx, pokemon)\n",
        "    criar_arestas_evolucao(tx, pokemon)\n",
        "    criar_habilidades(tx, pokemon)\n",
        "    criar_tipos(tx, pokemon)\n",
        "\n",
        "# Função para inserir todos os Pokémons no Neo4J\n",
        "def inserir_pokemons_no_neo4j(driver, arquivo_json):\n",
        "    pokemons = carregar_pokemons(arquivo_json)\n",
        "\n",
        "    if not pokemons:\n",
        "        return\n",
        "\n",
        "    with driver.session() as session:\n",
        "        for pokemon in pokemons:\n",
        "            session.execute_write(adicionar_pokemon, pokemon)\n",
        "\n",
        "# Carregar e inserir todos os Pokémons no Neo4J\n",
        "inserir_pokemons_no_neo4j(driver, './pokedex.json')\n",
        "\n",
        "driver.close()"
      ],
      "metadata": {
        "id": "f1NpjJxR8Zkv"
      },
      "execution_count": 38,
      "outputs": []
    },
    {
      "cell_type": "markdown",
      "source": [
        "#Consultas e agregações\n",
        "- Quais Pokémons podem atacar um Pikachu pelo sua fraqueza (tipo que lhe pode causar mais dano) cujo o peso é mais de 10kg?\n",
        "- Quantas segundas e terceiras evoluções que fazem um Pokémon no mínimo dobrar de peso?"
      ],
      "metadata": {
        "id": "alQ0jrCix1ee"
      }
    },
    {
      "cell_type": "code",
      "source": [
        "driver = GraphDatabase.driver(uri, auth=(username, password))\n",
        "\n",
        "def buscar_pokemons_por_fraqueza_e_peso(tx):\n",
        "    query = \"\"\"\n",
        "    MATCH (p:Pokemon)-[:TEM_TIPO]->(t:Tipo)\n",
        "    WHERE t.nome IN ['Ground'] AND p.peso > 10\n",
        "    RETURN p.nome AS Pokemon, p.peso AS Peso\n",
        "    \"\"\"\n",
        "    result = tx.run(query)\n",
        "    for record in result:\n",
        "        print(f\"Pokémon: {record['Pokemon']}, Peso: {record['Peso']}kg\")\n",
        "\n",
        "with driver.session() as session:\n",
        "    session.execute_read(buscar_pokemons_por_fraqueza_e_peso)\n",
        "\n",
        "driver.close()"
      ],
      "metadata": {
        "colab": {
          "base_uri": "https://localhost:8080/"
        },
        "id": "g5JnElBYGLD5",
        "outputId": "a3a2c261-4263-4360-96c9-13bb7f3e7987",
        "collapsed": true
      },
      "execution_count": 39,
      "outputs": [
        {
          "output_type": "stream",
          "name": "stdout",
          "text": [
            "Pokémon: Ting-Lu, Peso: 699.7kg\n",
            "Pokémon: Iron Treads, Peso: 240.0kg\n",
            "Pokémon: Sandy Shocks, Peso: 60.0kg\n",
            "Pokémon: Clodsire, Peso: 223.0kg\n",
            "Pokémon: Great Tusk, Peso: 320.0kg\n",
            "Pokémon: Toedscool, Peso: 33.0kg\n",
            "Pokémon: Toedscruel, Peso: 58.0kg\n",
            "Pokémon: Ursaluna, Peso: 290.0kg\n",
            "Pokémon: Runerigus, Peso: 66.6kg\n",
            "Pokémon: Sandaconda, Peso: 65.5kg\n",
            "Pokémon: Sandygast, Peso: 70.0kg\n",
            "Pokémon: Palossand, Peso: 250.0kg\n",
            "Pokémon: Mudbray, Peso: 110.0kg\n",
            "Pokémon: Mudsdale, Peso: 920.0kg\n",
            "Pokémon: Zygarde, Peso: 305.0kg\n",
            "Pokémon: Diggersby, Peso: 42.4kg\n",
            "Pokémon: Landorus, Peso: 68.0kg\n",
            "Pokémon: Golett, Peso: 92.0kg\n",
            "Pokémon: Golurk, Peso: 330.0kg\n",
            "Pokémon: Stunfisk, Peso: 11.0kg\n",
            "Pokémon: Sandile, Peso: 15.2kg\n",
            "Pokémon: Krookodile, Peso: 96.3kg\n",
            "Pokémon: Krokorok, Peso: 33.4kg\n",
            "Pokémon: Seismitoad, Peso: 62.0kg\n",
            "Pokémon: Palpitoad, Peso: 17.0kg\n",
            "Pokémon: Excadrill, Peso: 40.4kg\n",
            "Pokémon: Mamoswine, Peso: 291.0kg\n",
            "Pokémon: Gliscor, Peso: 42.5kg\n",
            "Pokémon: Rhyperior, Peso: 282.8kg\n",
            "Pokémon: Hippowdon, Peso: 300.0kg\n",
            "Pokémon: Hippopotas, Peso: 49.5kg\n",
            "Pokémon: Garchomp, Peso: 95.0kg\n",
            "Pokémon: Gabite, Peso: 56.0kg\n",
            "Pokémon: Gible, Peso: 20.5kg\n",
            "Pokémon: Gastrodon, Peso: 29.9kg\n",
            "Pokémon: Torterra, Peso: 310.0kg\n",
            "Pokémon: Groudon, Peso: 950.0kg\n",
            "Pokémon: Claydol, Peso: 108.0kg\n",
            "Pokémon: Baltoy, Peso: 21.5kg\n",
            "Pokémon: Whiscash, Peso: 23.6kg\n",
            "Pokémon: Trapinch, Peso: 15.0kg\n",
            "Pokémon: Flygon, Peso: 82.0kg\n",
            "Pokémon: Vibrava, Peso: 15.3kg\n",
            "Pokémon: Camerupt, Peso: 220.0kg\n",
            "Pokémon: Numel, Peso: 24.0kg\n",
            "Pokémon: Marshtomp, Peso: 28.0kg\n",
            "Pokémon: Swampert, Peso: 81.9kg\n",
            "Pokémon: Pupitar, Peso: 152.0kg\n",
            "Pokémon: Larvitar, Peso: 72.0kg\n",
            "Pokémon: Donphan, Peso: 120.0kg\n",
            "Pokémon: Phanpy, Peso: 33.5kg\n",
            "Pokémon: Piloswine, Peso: 55.8kg\n",
            "Pokémon: Steelix, Peso: 400.0kg\n",
            "Pokémon: Gligar, Peso: 64.8kg\n",
            "Pokémon: Quagsire, Peso: 75.0kg\n",
            "Pokémon: Rhydon, Peso: 120.0kg\n",
            "Pokémon: Rhyhorn, Peso: 115.0kg\n",
            "Pokémon: Marowak, Peso: 45.0kg\n",
            "Pokémon: Onix, Peso: 210.0kg\n",
            "Pokémon: Graveler, Peso: 105.0kg\n",
            "Pokémon: Geodude, Peso: 20.0kg\n",
            "Pokémon: Golem, Peso: 300.0kg\n",
            "Pokémon: Dugtrio, Peso: 33.3kg\n",
            "Pokémon: Nidoqueen, Peso: 60.0kg\n",
            "Pokémon: Nidoking, Peso: 62.0kg\n",
            "Pokémon: Sandshrew, Peso: 12.0kg\n",
            "Pokémon: Sandslash, Peso: 29.5kg\n"
          ]
        }
      ]
    },
    {
      "cell_type": "code",
      "source": [
        "driver = GraphDatabase.driver(uri, auth=(username, password))\n",
        "\n",
        "# Função de consulta: Segundas e terceiras evoluções que dobram o peso\n",
        "def buscar_evolucoes_que_dobram_peso(tx):\n",
        "    query = \"\"\"\n",
        "    MATCH (p1:Pokemon)-[:EVOLUI_PARA]->(p2:Pokemon)\n",
        "    WHERE p2.peso >= 2 * p1.peso\n",
        "    RETURN COUNT(p2) AS Evolucoes_que_Dobraram_Peso\n",
        "    \"\"\"\n",
        "    result = tx.run(query)\n",
        "    for record in result:\n",
        "        print(f\"Evoluções que dobraram o peso: {record['Evolucoes_que_Dobraram_Peso']}\")\n",
        "\n",
        "# Executar a consulta\n",
        "with driver.session() as session:\n",
        "    session.execute_read(buscar_evolucoes_que_dobram_peso)\n",
        "\n",
        "driver.close()"
      ],
      "metadata": {
        "colab": {
          "base_uri": "https://localhost:8080/"
        },
        "id": "dMVIURyvGDyi",
        "outputId": "18629ca6-f5a3-4d1d-ef30-2d1decbca966"
      },
      "execution_count": 40,
      "outputs": [
        {
          "output_type": "stream",
          "name": "stdout",
          "text": [
            "Evoluções que dobraram o peso: 391\n"
          ]
        }
      ]
    },
    {
      "cell_type": "markdown",
      "source": [
        "#Fechamento da conexão"
      ],
      "metadata": {
        "id": "BuazUaSZxvbO"
      }
    },
    {
      "cell_type": "code",
      "source": [
        "driver.close()"
      ],
      "metadata": {
        "id": "7zUHxdVNAlhN"
      },
      "execution_count": 41,
      "outputs": []
    }
  ]
}